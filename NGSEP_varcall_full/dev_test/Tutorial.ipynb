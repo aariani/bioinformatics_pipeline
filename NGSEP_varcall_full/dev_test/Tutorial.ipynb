{
 "cells": [
  {
   "cell_type": "markdown",
   "metadata": {},
   "source": [
    "# Tutorial\n",
    "\n",
    "How to use this script:\n",
    "\n",
    "1. Copy your demultiplexed and trimmed fastq a folder within this directory (name the directory `FASTQ`). There should be **a single FASTQ file for each sample** and each sample name must be unique\n",
    "\n",
    "2. Copy your reference genome in a folder within this directory (name the directory `REF`).\n",
    "\n",
    "3. Chek that python3 is installed in your system."
   ]
  },
  {
   "cell_type": "markdown",
   "metadata": {},
   "source": [
    "# Run the script\n",
    "\n",
    "One you have prepared the different folders with the FASTQ and REF just type:\n",
    "\n",
    "    python NGSEP_pipeline_full.py -i FASTQ -r REF/Pvulgaris_reference_genome.fa\n",
    "    \n",
    "After waiting (it might take long depending on your resources), you will have a file named FINAL_SNP_file.vcf in this folder. This is the unfiltered VCF file"
   ]
  }
 ],
 "metadata": {
  "kernelspec": {
   "display_name": "Python 3.7.0",
   "language": "python",
   "name": "python_3.7.0"
  },
  "language_info": {
   "codemirror_mode": {
    "name": "ipython",
    "version": 3
   },
   "file_extension": ".py",
   "mimetype": "text/x-python",
   "name": "python",
   "nbconvert_exporter": "python",
   "pygments_lexer": "ipython3",
   "version": "3.7.0"
  }
 },
 "nbformat": 4,
 "nbformat_minor": 4
}
