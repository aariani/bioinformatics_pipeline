{
 "cells": [
  {
   "cell_type": "code",
   "execution_count": 1,
   "metadata": {},
   "outputs": [
    {
     "name": "stdout",
     "output_type": "stream",
     "text": [
      "Writing NGSEP_pipeline_full.py\n"
     ]
    }
   ],
   "source": [
    "%%writefile NGSEP_pipeline_full.py\n",
    "#! /usr/bin/env python\n",
    "### Script for aligning reads\n",
    "import argparse\n",
    "import glob\n",
    "from os.path import basename\n",
    "from subprocess import call\n",
    "\n",
    "parser=argparse.ArgumentParser(prog='NGSEP_pipeline_full', description='Script for align, postprocess and call reads using entirely NGSEP')\n",
    "parser.add_argument('-i', '--input', dest='fastqreads', help='The folder with your fastq reads')\n",
    "parser.add_argument('-r', '--referencegenome', dest='ref',\n",
    "                    help='The reference genome file')\n",
    "#parser.add_argument('-o', '--output', dest='outfolder', help='The output folder')\n",
    "arg=parser.parse_args()\n",
    "\n",
    "## Check if there is some parameter missing\n",
    "if 'None' in str(arg):\n",
    "        parser.error('Input parameter missing!! Please check your command line parameters with -h or --help')\n",
    "\n",
    "## sample params\n",
    "fastq=arg.fastqreads.split('/')[0] # just for avoid to duplication of the '/' at the end\n",
    "ref=arg.ref\n",
    "reads=glob.glob('%s/*' % fastq)\n",
    "\n",
    "call('mkdir -p aln_res', shell=True)\n",
    "# java -jar NGSEPcore_<VERSION>.jar ReadsAligner -r <REF.fa> -i <SMPL>.fastq -s <SMPL> -o <SMPL>.bam > <SMPL>_aln.log\n",
    "# java -jar picard.jar SortSam SO=coordinate CREATE_INDEX=true I=<SMPL>.bam O=<SMPL>_sorted.bam >& <SMPL>_sort.log\n",
    "for i in reads:\n",
    "    smpl = basename(i).split('.')[0]\n",
    "    print('Start aligning sample %s' % smpl)\n",
    "    bam_out= smpl +'_aln.bam'\n",
    "    aln_cmd='''java -jar src/NGSEPcore_4.1.0.jar ReadsAligner -r %s -i %s -s %s -o aln_res/%s > logs/%s_aln.log''' % (ref, i, smpl, bam_out, smpl)\n",
    "    print(aln_cmd)\n",
    "    call(aln_cmd, shell=True)\n",
    "    picard_cmd = '''java -jar src/picard.jar SortSam SO=coordinate CREATE_INDEX=true I=aln_res/%s O=aln_res/%s_sorted.bam >& logs/%s_sort.log''' % (bam_out, smpl, smpl)\n",
    "    print(picard_cmd)\n",
    "    call(picard_cmd, shell=True)\n",
    "    \n",
    "\n",
    "# Multisamples SNPs calling\n",
    "\n",
    "#java -jar src/NGSEPcore_4.1.0.jar MultisampleVariantsDetector -maxBaseQS 30 -maxAlnsPerStartPos 100 -r <REF.fa> -o population.vcf <BAM_FILES>* >& population.log\n",
    "snp_allign_cmd = '''java -jar src/NGSEPcore_4.1.0.jar MultisampleVariantsDetector -maxBaseQS 30 -maxAlnsPerStartPos 100 -r %s -o population.vcf res_aln/*_sorted.bam >& logs/population.log''' % ref\n",
    "print(snp_allign_cmd)\n",
    "call(snp_allign_cmd, shell=True)"
   ]
  }
 ],
 "metadata": {
  "kernelspec": {
   "display_name": "Python 3.7.0",
   "language": "python",
   "name": "python_3.7.0"
  },
  "language_info": {
   "codemirror_mode": {
    "name": "ipython",
    "version": 3
   },
   "file_extension": ".py",
   "mimetype": "text/x-python",
   "name": "python",
   "nbconvert_exporter": "python",
   "pygments_lexer": "ipython3",
   "version": "3.7.0"
  }
 },
 "nbformat": 4,
 "nbformat_minor": 4
}
