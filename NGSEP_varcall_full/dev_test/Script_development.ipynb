{
 "cells": [
  {
   "cell_type": "code",
   "execution_count": 2,
   "metadata": {},
   "outputs": [
    {
     "name": "stdout",
     "output_type": "stream",
     "text": [
      "Overwriting ../NGSEP_pipeline_full.py\n"
     ]
    }
   ],
   "source": [
    "%%writefile ../NGSEP_pipeline_full.py\n",
    "#! /usr/bin/env python\n",
    "### Script for aligning reads\n",
    "import argparse\n",
    "import glob\n",
    "from os.path import basename\n",
    "from subprocess import call\n",
    "\n",
    "parser=argparse.ArgumentParser(prog='NGSEP_pipeline_full', description='Script for align, postprocess and call reads using entirely NGSEP')\n",
    "parser.add_argument('-i', '--input', dest='fastqreads', help='The folder with your fastq reads')\n",
    "parser.add_argument('-r', '--referencegenome', dest='ref',\n",
    "                    help='The reference genome file')\n",
    "#parser.add_argument('-o', '--output', dest='outfolder', help='The output folder')\n",
    "arg=parser.parse_args()\n",
    "\n",
    "## Check if there is some parameter missing\n",
    "if 'None' in str(arg):\n",
    "        parser.error('Input parameter missing!! Please check your command line parameters with -h or --help')\n",
    "\n",
    "## sample params\n",
    "fastq=arg.fastqreads.split('/')[0] # just for avoid to duplication of the '/' at the end\n",
    "ref=arg.ref\n",
    "reads=glob.glob('%s/*' % fastq)\n",
    "\n",
    "call('mkdir -p aln_res', shell=True)\n",
    "# java -jar NGSEPcore_<VERSION>.jar ReadsAligner -r <REF.fa> -i <SMPL>.fastq -s <SMPL> -o <SMPL>.bam > <SMPL>_aln.log\n",
    "# java -jar picard.jar SortSam SO=coordinate CREATE_INDEX=true I=<SMPL>.bam O=<SMPL>_sorted.bam >& <SMPL>_sort.log\n",
    "for i in reads:\n",
    "    smpl = basename(i).split('.')[0]\n",
    "    print('Start aligning sample %s' % smpl)\n",
    "    bam_out= smpl +'_aln.bam'\n",
    "    aln_cmd='''java -jar src/NGSEPcore_4.1.0.jar ReadsAligner -r %s -i %s -s %s -o aln_res/%s > logs/%s_aln.log''' % (ref, i, smpl, bam_out, smpl)\n",
    "    print(aln_cmd)\n",
    "    call(aln_cmd, shell=True)\n",
    "    picard_cmd = '''java -jar src/picard.jar SortSam SO=coordinate CREATE_INDEX=true I=aln_res/%s O=aln_res/%s_sorted.bam >& logs/%s_sort.log''' % (bam_out, smpl, smpl)\n",
    "    print(picard_cmd)\n",
    "    call(picard_cmd, shell=True)\n",
    "    \n",
    "\n",
    "# Multisamples SNPs calling\n",
    "\n",
    "#java -jar src/NGSEPcore_4.1.0.jar MultisampleVariantsDetector -maxBaseQS 30 -maxAlnsPerStartPos 100 -r <REF.fa> -o population.vcf <BAM_FILES>* >& population.log\n",
    "snp_allign_cmd = '''java -jar src/NGSEPcore_4.1.0.jar MultisampleVariantsDetector -maxBaseQS 30 -maxAlnsPerStartPos 100 -r %s -o FINAL_SNP_file.vcf res_aln/*_sorted.bam >& logs/population.log''' % ref\n",
    "print(snp_allign_cmd)\n",
    "call(snp_allign_cmd, shell=True)"
   ]
  },
  {
   "cell_type": "markdown",
   "metadata": {},
   "source": [
    "Make script of script"
   ]
  },
  {
   "cell_type": "code",
   "execution_count": 2,
   "metadata": {},
   "outputs": [
    {
     "name": "stdout",
     "output_type": "stream",
     "text": [
      "Overwriting ../NGSEP_aln_slurm.py\n"
     ]
    }
   ],
   "source": [
    "%%writefile ../NGSEP_aln_slurm.py\n",
    "import os\n",
    "import argparse\n",
    "import glob\n",
    "from os.path import basename\n",
    "\n",
    "parser=argparse.ArgumentParser(prog='NGSEP_aln_slurm', description='Script for creating slurm jobs for aligning and postprocessing reads using entirely NGSEP')\n",
    "parser.add_argument('-i', '--input', dest='fastqreads', help='The folder with your fastq reads')\n",
    "parser.add_argument('-r', '--referencegenome', dest='ref',\n",
    "                    help='The reference genome file')\n",
    "#parser.add_argument('-o', '--output', dest='outfolder', help='The output folder')\n",
    "arg=parser.parse_args()\n",
    "\n",
    "## Check if there is some parameter missing\n",
    "if 'None' in str(arg):\n",
    "        parser.error('Input parameter missing!! Please check your command line parameters with -h or --help')\n",
    "\n",
    "## sample params\n",
    "fastq=arg.fastqreads.split('/')[0] # just for avoid to duplication of the '/' at the end\n",
    "ref=arg.ref\n",
    "reads=glob.glob('%s/*' % fastq)\n",
    "\n",
    "slurm_header = '''#!/bin/bash\n",
    "#SBATCH --time=24:00:00\n",
    "#SBATCH --mem=64gb\n",
    "#SBATCH --job-name=%s\n",
    "#SBATCH --error=/work/agro932/sybarreral/agrobinf/sybarreral/log/%s.err\n",
    "#SBATCH --output=/work/agro932/sybarreral/agrobinf/sybarreral/log/%s.out\n",
    "\n",
    "module load java/12\n",
    "module load python/3.8\n",
    "\n",
    "\n",
    "'''\n",
    "\n",
    "for i in reads:\n",
    "    sample = basename(i).split('.')[0]\n",
    "    slurm = slurm_header%(sample, sample, sample)\n",
    "    bam_out= sample +'_aln.bam'\n",
    "    aln_cmd='''java -Xmx64g -jar src/NGSEPcore_4.1.0.jar ReadsAligner -r %s -i %s -s %s -o aln_res/%s > logs/%s_aln.log\\n''' % (ref, i, sample, bam_out, sample)\n",
    "    slurm += aln_cmd\n",
    "    picard_cmd = '''java -Xmx64g -jar src/picard.jar SortSam SO=coordinate CREATE_INDEX=true I=aln_res/%s O=aln_res/%s_sorted.bam >& logs/%s_sort.log\\n''' % (bam_out, sample, sample)\n",
    "    slurm += picard_cmd\n",
    "    with open('NGSEP_align_%s.slurm'%sample, 'w') as f:\n",
    "                f.write(slurm)"
   ]
  },
  {
   "cell_type": "markdown",
   "metadata": {},
   "source": [
    "slurm bowtie 2"
   ]
  },
  {
   "cell_type": "code",
   "execution_count": 6,
   "metadata": {},
   "outputs": [
    {
     "name": "stdout",
     "output_type": "stream",
     "text": [
      "Overwriting ../bowtie2_aln_slurm.py\n"
     ]
    }
   ],
   "source": [
    "%%writefile ../bowtie2_aln_slurm.py\n",
    "import os\n",
    "import argparse\n",
    "import glob\n",
    "from os.path import basename\n",
    "\n",
    "parser=argparse.ArgumentParser(prog='bowtie2_aln_slurm', description='Script for creating slurm jobs for aligning reads with bowtie2')\n",
    "parser.add_argument('-i', '--input', dest='fastqreads', help='The folder with your fastq reads')\n",
    "arg=parser.parse_args()\n",
    "\n",
    "## Check if there is some parameter missing\n",
    "if 'None' in str(arg):\n",
    "        parser.error('Input parameter missing!! Please check your command line parameters with -h or --help')\n",
    "\n",
    "## sample params\n",
    "fastq=arg.fastqreads.split('/')[0] # just for avoid to duplication of the '/' at the end\n",
    "reads=glob.glob('%s/*' % fastq)\n",
    "\n",
    "slurm_header = '''#!/bin/sh\n",
    "#SBATCH --ntasks-per-node=4\n",
    "#SBATCH --nodes=1\n",
    "#SBATCH --mem=56gb\n",
    "#SBATCH --time=20:00:00\n",
    "#SBATCH --job-name=BTmap_%s\n",
    "#SBATCH --mail-user=sybarreral@huskers.unl.edu\n",
    "#SBATCH --mail-type=ALL\n",
    "#SBATCH --error=/work/agro932/sybarreral/agrobinf/sybarreral/log/map_bt2_%s.err\n",
    "#SBATCH --output=/work/agro932/sybarreral/agrobinf/sybarreral/log/map_bt2_%s.out\n",
    "\n",
    "module load bowtie/2.3\n",
    "\n",
    "IDXPTH=/work/agro932/sybarreral/agrobinf/sybarreral/project/ucdReads/H2214/NGSEP_varcall_full/REF\n",
    "READPTH=/work/agro932/sybarreral/agrobinf/sybarreral/project/ucdReads/H2214/NGSEP_varcall_full/FASTQ\n",
    "\n",
    "'''\n",
    "\n",
    "for i in reads:\n",
    "    sample = basename(i).split('.')[0]\n",
    "    slurm = slurm_header%(sample, sample, sample)\n",
    "    aln_cmd='''bowtie2 --local -p 4 -N 1 -x $IDXPTH/Pacutifolius -U $READPTH/%s -S aln_res/%s_pha.sam\\n''' % (basename(i), sample)\n",
    "    slurm += aln_cmd\n",
    "    with open('bowtie2_align_%s.slurm'%sample, 'w') as f:\n",
    "                f.write(slurm)"
   ]
  },
  {
   "cell_type": "code",
   "execution_count": 7,
   "metadata": {},
   "outputs": [
    {
     "name": "stdout",
     "output_type": "stream",
     "text": [
      "Writing ../samtools_sort_slurm.py\n"
     ]
    }
   ],
   "source": [
    "%%writefile ../samtools_sort_slurm.py\n",
    "import os\n",
    "import argparse\n",
    "import glob\n",
    "from os.path import basename\n",
    "\n",
    "parser=argparse.ArgumentParser(prog='samtools_sort_slurm', description='Script for creating slurm jobs for samtools sort')\n",
    "parser.add_argument('-i', '--input', dest='fastqreads', help='The folder with your fastq reads')\n",
    "arg=parser.parse_args()\n",
    "\n",
    "## Check if there is some parameter missing\n",
    "if 'None' in str(arg):\n",
    "        parser.error('Input parameter missing!! Please check your command line parameters with -h or --help')\n",
    "\n",
    "## sample params\n",
    "fastq=arg.fastqreads.split('/')[0] # just for avoid to duplication of the '/' at the end\n",
    "reads=glob.glob('%s/*' % fastq)\n",
    "\n",
    "slurm_header = '''#!/bin/bash\n",
    "#SBATCH --ntasks=1\n",
    "#SBATCH --mem=64gb\n",
    "#SBATCH --time=10:00:00\n",
    "#SBATCH --job-name=sortReads_%s\n",
    "#SBATCH --mail-user=sybarreral@huskers.unl.edu\n",
    "#SBATCH --mail-type=ALL\n",
    "#SBATCH --error=/work/agrobinf/SHARED/agrobinf2020/users/sybarreral/log/sort_%s.err\n",
    "#SBATCH --output=/work/agrobinf/SHARED/agrobinf2020/users/sybarreral/log/sort_%s.out\n",
    "\n",
    "module load samtools/1.9\n",
    "\n",
    "'''\n",
    "\n",
    "for i in reads:\n",
    "    sample = basename(i).split('.')[0]\n",
    "    slurm = slurm_header%(sample, sample, sample)\n",
    "    aln_cmd='''samtools sort -o aln_res/%s_pha.bam aln_res/%s_pha.sam\\n''' % (sample, sample)\n",
    "    slurm += aln_cmd\n",
    "    with open('samtools_sort_%s.slurm'%sample, 'w') as f:\n",
    "                f.write(slurm)"
   ]
  },
  {
   "cell_type": "code",
   "execution_count": null,
   "metadata": {},
   "outputs": [],
   "source": []
  }
 ],
 "metadata": {
  "kernelspec": {
   "display_name": "Python 3.7.0",
   "language": "python",
   "name": "python_3.7.0"
  },
  "language_info": {
   "codemirror_mode": {
    "name": "ipython",
    "version": 3
   },
   "file_extension": ".py",
   "mimetype": "text/x-python",
   "name": "python",
   "nbconvert_exporter": "python",
   "pygments_lexer": "ipython3",
   "version": "3.7.0"
  }
 },
 "nbformat": 4,
 "nbformat_minor": 4
}
